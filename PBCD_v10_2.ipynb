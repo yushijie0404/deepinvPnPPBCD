{
 "cells": [
  {
   "cell_type": "code",
   "execution_count": 3,
   "metadata": {
    "colab": {
     "base_uri": "https://localhost:8080/"
    },
    "id": "T6WNBzUALFQ-",
    "outputId": "a3d41066-fc26-4c05-955f-9633ed6e633b"
   },
   "outputs": [
    {
     "name": "stderr",
     "output_type": "stream",
     "text": [
      "INFO:numexpr.utils:Note: NumExpr detected 32 cores but \"NUMEXPR_MAX_THREADS\" not set, so enforcing safe limit of 8.\n",
      "INFO:numexpr.utils:NumExpr defaulting to 8 threads.\n"
     ]
    },
    {
     "name": "stdout",
     "output_type": "stream",
     "text": [
      "Selected GPU 0 with 7957 MB free memory \n",
      "Selected GPU 0 with 7957 MB free memory \n"
     ]
    }
   ],
   "source": [
    "import torch\n",
    "from tqdm import tqdm\n",
    "import scipy.io as scio\n",
    "import deepinv as dinv\n",
    "from deepinv.physics import Denoising, GaussianNoise\n",
    "from AnomalyDetectionDataset.algo2 import *\n",
    "device = dinv.utils.get_freer_gpu() if torch.cuda.is_available() else \"cpu\"\n",
    "from deepinv.optim.data_fidelity import L2\n",
    "import os\n",
    "from torchmetrics.classification import BinaryAUROC, BinaryF1Score"
   ]
  },
  {
   "cell_type": "code",
   "execution_count": 4,
   "metadata": {},
   "outputs": [
    {
     "name": "stdout",
     "output_type": "stream",
     "text": [
      "0.2.1\n"
     ]
    }
   ],
   "source": [
    "os.environ[\"PYTORCH_CUDA_ALLOC_CONF\"] = \"max_split_size_mb:256\"\n",
    "os.environ[\"CUDA_LAUNCH_BLOCKING\"] = \"1\"\n",
    "torch.cuda.set_per_process_memory_fraction(0.98, 0)\n",
    "torch.backends.cudnn.benchmark = True\n",
    "torch.backends.cudnn.enabled = True\n",
    "print(dinv.__version__)"
   ]
  },
  {
   "cell_type": "code",
   "execution_count": 5,
   "metadata": {},
   "outputs": [
    {
     "name": "stdout",
     "output_type": "stream",
     "text": [
      "PyTorch version: 2.0.1+cu118\n",
      "CUDA version: 11.8\n",
      "cuDNN enabled: True\n",
      "Device name: NVIDIA GeForce RTX 4060 Laptop GPU\n"
     ]
    }
   ],
   "source": [
    "print(f\"PyTorch version: {torch.__version__}\")\n",
    "print(f\"CUDA version: {torch.version.cuda}\")\n",
    "print(f\"cuDNN enabled: {torch.backends.cudnn.enabled}\")\n",
    "print(f\"Device name: {torch.cuda.get_device_name(0)}\")"
   ]
  },
  {
   "cell_type": "code",
   "execution_count": 6,
   "metadata": {},
   "outputs": [],
   "source": [
    "def compute_auc_with_params(params_algo, D_noise,e_init, amo_gt, device):\n",
    "    torch.manual_seed(0)\n",
    "    tl.set_backend('pytorch')\n",
    "    # 模拟根据参数生成图像\n",
    "    with torch.no_grad():    \n",
    "        \n",
    "        data_fidelity = L2()\n",
    "\n",
    "        cur_priorS = L2pPrior(l2_axis = 1, l2p_p = 0.1)\n",
    "        cur_priorE = StiefelPrior(rank=rank)\n",
    "        cur_priorZ = GSPnP(denoiser=dinv.models.GSDRUNet(in_channels=1, out_channels=1,pretrained='AnomalyDetectionDataset/GSDRUNet_grayscale_torch.ckpt',alpha=params_algo[\"lambda\"]).to(device)) #pretrained=\"download\" in_channels=12, out_channels=12,\n",
    "        iteration = PBCDIteration(F_fn=None, has_cost=True)\n",
    "        X=initialisation2(D_noise,e_init)\n",
    "        max_iter = 10\n",
    "        for it in range(max_iter):\n",
    "            X = iteration(X, data_fidelity, cur_priorS , cur_priorE ,cur_priorZ, params_algo, O=D_noise) # 替换为实际的模型函数\n",
    "        # 将图像和 ground truth 展平\n",
    "        S_final=X['est'][0]\n",
    "        S_map=torch.zeros(S_final.shape[2],S_final.shape[3]).to(device)\n",
    "        for band in range(S_final.shape[1]):\n",
    "            S_map=S_final[0,band,:,:]*S_final[0,band,:,:]\n",
    "        ourdensity=S_map.cpu().detach().numpy()\n",
    "        amo_gt=amo_gt.cpu().detach().numpy()\n",
    "        ROC, AUC=ROC_AUC(ourdensity, amo_gt)\n",
    "    # 计算 AUC\n",
    "    return ROC,AUC, ourdensity\n"
   ]
  },
  {
   "cell_type": "code",
   "execution_count": 7,
   "metadata": {},
   "outputs": [
    {
     "name": "stdout",
     "output_type": "stream",
     "text": [
      "dealing abu-urban-4\n",
      "torch.Size([205, 8]) torch.Size([205, 100, 100])\n"
     ]
    },
    {
     "name": "stderr",
     "output_type": "stream",
     "text": [
      "/home/yushijie0404/anaconda3/lib/python3.11/site-packages/torch/nn/modules/conv.py:459: UserWarning: Applied workaround for CuDNN issue, install nvrtc.so (Triggered internally at ../aten/src/ATen/native/cudnn/Conv_v8.cpp:80.)\n",
      "  return F.conv2d(input, weight, bias, self.stride,\n"
     ]
    },
    {
     "name": "stdout",
     "output_type": "stream",
     "text": [
      " i=  0   j=  0\n",
      "saving AnomalyDetectionDataset/20250409/abu-urban-4_result_nl003_auto05496.mat\n"
     ]
    },
    {
     "data": {
      "image/png": "[encoded data removed]",
      "text/plain": [
       "<Figure size 640x480 with 1 Axes>"
      ]
     },
     "metadata": {},
     "output_type": "display_data"
    }
   ],
   "source": [
    "import matplotlib.pyplot as plt\n",
    "with torch.no_grad():# name = f'abu-urban-{i}''abu-airport-1','abu-airport-2','abu-airport-3''abu-airport-3','abu-airport-4','abu-beach-4''abu-urban-3',,,'abu-urban-2','abu-urban-4'\n",
    "    for name in ['abu-urban-4']:\n",
    "        print(f'dealing {name}')\n",
    "        noise_level_img=0.03\n",
    "        variables_to_load = ['E_all','D_noise', 'amo_gt']\n",
    "\n",
    "    # 使用loadmat函数加载指定变量\n",
    "        data0 = scio.loadmat(f'AnomalyDetectionDataset/20241120/{name}_nl{int((noise_level_img) * 100):03d}.mat',variable_names=variables_to_load)\n",
    "        \n",
    "        D_noise=torch.tensor(data0['D_noise'].astype('float32'), dtype=torch.float32).to(device)\n",
    "        D_noise=D_noise/D_noise.max()\n",
    "        amo_gt=torch.tensor(data0['amo_gt'], dtype=torch.float32).to(device)\n",
    "        rank=8\n",
    "    #    e_init=torch.tensor(data0['E_all'][:,:rank].astype('float32'), dtype=torch.float32).to(device)\n",
    "        e_init = torch.randn(D_noise.shape[0], rank, dtype=torch.float32).to(device)\n",
    "        U, SIG, V =torch.linalg.svd(e_init , full_matrices=False)\n",
    "        SIGone = torch.diag(torch.ones(rank,dtype=torch.float32).to(device)) #!!要和整体输入一致\n",
    "        e_init = U @ SIGone @ V\n",
    "        print(e_init.shape,D_noise.shape)\n",
    "        torch.cuda.empty_cache()\n",
    "        AUC_all=torch.zeros(1,1).to(device)\n",
    "        for j in range(AUC_all.shape[1]):\n",
    "            for i in range(AUC_all.shape[0]):\n",
    "                params_algo = {\n",
    "                    \"noiselevelparams\": 1,\n",
    "                    \"g_param\": (0) * torch.ones(rank).to(device),  # 示例 rank = 10\n",
    "                    #\"alpha\": 0.5,\n",
    "                    \"delta\": 5000000000000+0.1*(j),\n",
    "                    \"tau\": 0.000000015+0.1*i,\n",
    "                    \"alpha_S\": 0.1,\n",
    "                    \"alpha_E\": 0.1,\n",
    "                    \"alpha_Z\": 0.09,\n",
    "                    \n",
    "                }\n",
    "                params_algo[\"tilde_alpha_Z\"]  = params_algo[\"delta\"] / (params_algo[\"delta\"]+params_algo[\"alpha_Z\"])\n",
    "                params_algo[\"lambda\"]  = 1 / params_algo[\"tilde_alpha_Z\"]\n",
    "                ROC, AUC, ourdensity=compute_auc_with_params(params_algo, D_noise,e_init, amo_gt, device) #, population_size=20, generations=50, mutation_rate=0.1\n",
    "                AUC_all[i,j]=AUC\n",
    "                print(\" i= \", i ,\"  j= \",j )  \n",
    "        \n",
    "                saving_ttl=f'AnomalyDetectionDataset/20250409/{name}_result_nl{int((noise_level_img) * 100):03d}_auto{int((AUC) * 10000):05d}.mat'\n",
    "                print(f'saving {saving_ttl}')\n",
    "                plt.imshow(ourdensity)\n",
    "                plt.show()\n",
    "                scio.savemat(saving_ttl,\n",
    "                            {'params_algo':params_algo,\n",
    "                            'ourdensity':ourdensity,\n",
    "                            'auc':AUC,\n",
    "                            'AUC_all':AUC_all,})\n",
    "                torch.cuda.empty_cache()"
   ]
  },
  {
   "cell_type": "code",
   "execution_count": null,
   "metadata": {},
   "outputs": [],
   "source": [
    "print(AUC_all)"
   ]
  },
  {
   "cell_type": "code",
   "execution_count": null,
   "metadata": {},
   "outputs": [],
   "source": [
    "\n",
    "scio.savemat('delta_gamma20250612.mat',{'delta_gamma':AUC_all.to('cpu').numpy(force=True)})"
   ]
  },
  {
   "cell_type": "code",
   "execution_count": null,
   "metadata": {},
   "outputs": [],
   "source": [
    "# 20250409\n",
    "param_ranges = {\n",
    "    \"stepsize\": (0.5, 2),\n",
    "    \"noiselevelparams\": (0.2, 1.99),\n",
    "    \"lambda\": (0.01, 0.99),\n",
    "    \"alpha\": (0.01, 0.99),\n",
    "    \"delta\": (0.5, 5),\n",
    "    \"gamma\": (0.01, 1.5),\n",
    "    \"t_S\": (0, 0.3),\n",
    "    \"t_E\": (0.01, 0.01),\n",
    "    \"t_Z\": (0, 0.3),\n",
    "}\n",
    "\n",
    "# 执行遗传算法\n",
    "with torch.no_grad():# name = f'abu-urban-{i}''abu-airport-1','abu-airport-2','abu-airport-3','abu-airport-4','abu-beach-4''abu-urban-3',\n",
    "    for name in ['abu-airport-3']:\n",
    "        print(f'dealing {name}')\n",
    "        noise_level_img=0.00\n",
    "        variables_to_load = ['E_all','D_noise', 'amo_gt']\n",
    "\n",
    "    # 使用loadmat函数加载指定变量\n",
    "        data0 = scio.loadmat(f'AnomalyDetectionDataset/20241120/{name}_nl{int((noise_level_img) * 100):03d}.mat',variable_names=variables_to_load)\n",
    "        D_noise=torch.tensor(data0['D_noise'].astype('float32'), dtype=torch.float32).to(device)\n",
    "        D_noise=D_noise/D_noise.max()\n",
    "        amo_gt=torch.tensor(data0['amo_gt'], dtype=torch.float32).to(device)\n",
    "        rank=8\n",
    "    #    e_init=torch.tensor(data0['E_all'][:,:rank].astype('float32'), dtype=torch.float32).to(device)\n",
    "        e_init = torch.randn(D_noise.shape[0], rank, dtype=torch.float32).to(device)\n",
    "        U, SIG, V =torch.linalg.svd(e_init , full_matrices=False)\n",
    "        SIGone = torch.diag(torch.ones(rank,dtype=torch.float32).to(device)) #!!要和整体输入一致\n",
    "        e_init = U @ SIGone @ V\n",
    "        print(e_init.shape,D_noise.shape)\n",
    "        torch.cuda.empty_cache()\n",
    "\n",
    "        AUC, ourdensity=compute_auc_with_params(params_algo, D_noise,e_init, amo_gt, device) #, population_size=20, generations=50, mutation_rate=0.1\n",
    "        print(\"最大 AUC 值:\", max_auc)  \n",
    "    \n",
    "        saving_ttl=f'AnomalyDetectionDataset/20250409/{name}_result_nl{int((noise_level_img) * 100):03d}_auto{int((max_auc) * 100):03d}.mat'\n",
    "        print(f'saving {saving_ttl}')\n",
    "        g_param=optimized_params.pop('g_param')\n",
    "        scio.savemat(saving_ttl,\n",
    "                    {'optimized_params':optimized_params,\n",
    "                    'best_ourdensity':best_ourdensity,\n",
    "                    'max_auc':max_auc},)\n",
    "        torch.cuda.empty_cache()"
   ]
  },
  {
   "cell_type": "code",
   "execution_count": null,
   "metadata": {},
   "outputs": [],
   "source": [
    "def initialize_population(param_ranges, population_size, device):\n",
    "    \"\"\"\n",
    "    初始化种群。\n",
    "\n",
    "    参数:\n",
    "        param_ranges (dict): 每个参数的取值范围。\n",
    "        population_size (int): 种群大小。\n",
    "        device: PyTorch 的设备。\n",
    "\n",
    "    返回:\n",
    "        list: 种群，每个个体为参数字典。\n",
    "    \"\"\"\n",
    "    population = []\n",
    "    for _ in range(population_size):\n",
    "        individual = {key: np.random.uniform(low, high) for key, (low, high) in param_ranges.items()}\n",
    "        #individual[\"g_param\"] = 0.5 * torch.ones(8).to(device)  # 固定 g_param\n",
    "        population.append(individual)\n",
    "    return population\n",
    "\n",
    "def mutate(individual, param_ranges, mutation_rate=0.1):\n",
    "    \"\"\"\n",
    "    对个体进行变异。\n",
    "\n",
    "    参数:\n",
    "        individual (dict): 个体参数。\n",
    "        param_ranges (dict): 每个参数的取值范围。\n",
    "        mutation_rate (float): 变异概率。\n",
    "\n",
    "    返回:\n",
    "        dict: 变异后的个体。\n",
    "    \"\"\"\n",
    "    mutated = individual.copy()\n",
    "    for key in param_ranges:\n",
    "        if np.random.rand() < mutation_rate:\n",
    "            low, high = param_ranges[key]\n",
    "            mutated[key] = np.random.uniform(low, high)\n",
    "    return mutated\n",
    "\n",
    "def crossover(parent1, parent2):\n",
    "    \"\"\"\n",
    "    对两个个体进行交叉操作。\n",
    "\n",
    "    参数:\n",
    "        parent1 (dict): 父代 1。\n",
    "        parent2 (dict): 父代 2。\n",
    "\n",
    "    返回:\n",
    "        dict: 子代个体。\n",
    "    \"\"\"\n",
    "    child = parent1.copy()\n",
    "    for key in parent2:\n",
    "        if np.random.rand() < 0.5:\n",
    "            child[key] = parent2[key]\n",
    "    return child\n",
    "\n",
    "\n",
    "def genetic_algorithm(gt, device, param_ranges, D_noise, e_init, population_size=20, generations=10, mutation_rate=0.1,name='name', population=[]):\n",
    "    \"\"\"\n",
    "    遗传算法优化 AUC。\n",
    "\n",
    "    参数:\n",
    "        gt (torch.Tensor): Ground truth 数据。\n",
    "        device: PyTorch 的设备。\n",
    "        param_ranges (dict): 参数取值范围。\n",
    "        D_noise (torch.Tensor): 噪声数据。\n",
    "        e_init (torch.Tensor): 初始状态。\n",
    "        population_size (int): 种群大小。\n",
    "        generations (int): 最大迭代代数。\n",
    "        mutation_rate (float): 变异概率。\n",
    "\n",
    "    返回:\n",
    "        dict: 最优参数。\n",
    "        float: 最大 AUC 值。\n",
    "    \"\"\"\n",
    "    # 初始化种群\n",
    "    if population==[]:\n",
    "        population = initialize_population(param_ranges, population_size, device)\n",
    "    best_individual = None\n",
    "    best_auc = -np.inf\n",
    "    for generation in range(generations):\n",
    "        # 计算当前种群的适应度（AUC 值）\n",
    "        fitness = []\n",
    "        for individual in tqdm(population):\n",
    "            #individual['g_param']=individual['g_param'].cpu()\n",
    "            \n",
    "            scio.savemat('individual.mat', {'individual':individual})\n",
    "            #individual['g_param']=individual['g_param'].to(device)\n",
    "            auc_value, ourdensity= compute_auc_with_params(individual, D_noise, e_init, gt, device)\n",
    "\n",
    "            fitness.append((auc_value, individual))\n",
    "            if auc_value > best_auc:\n",
    "                best_auc = auc_value\n",
    "                best_individual = individual\n",
    "                best_ourdensity = ourdensity.copy()\n",
    "        # 按 AUC 值排序\n",
    "        fitness.sort(reverse=True, key=lambda x: x[0])\n",
    "        population = [x[1] for x in fitness[:population_size // 2]]  # 保留最优的半数个体\n",
    "\n",
    "        # 生成新一代\n",
    "        next_generation = []\n",
    "        while len(next_generation) < population_size:\n",
    "            # 随机选择两个个体作为父代\n",
    "            parent1, parent2 = np.random.choice(population, 2, replace=False)\n",
    "            # 交叉生成子代\n",
    "            child = crossover(parent1, parent2)\n",
    "            # 变异子代\n",
    "            child = mutate(child, param_ranges, mutation_rate)\n",
    "            next_generation.append(child)\n",
    "\n",
    "        population = next_generation\n",
    "        population_without_gparam = []\n",
    "        for individual in population:\n",
    "            individual_copy = individual.copy()  # 创建 individual 的副本\n",
    "            if 'g_param' in individual_copy:\n",
    "                del individual_copy['g_param']  # 删除 'g_param' 键\n",
    "            population_without_gparam.append(individual_copy)  # 添加到新的列表\n",
    "        print(f\"Generation {generation + 1}, Best AUC: {best_auc:.4f}\") \n",
    "        #best_individual['g_param']=best_individual['g_param'].cpu()\n",
    "        scio.savemat(f'best_{name}.mat',\n",
    "                {'optimized_params':best_individual,\n",
    "                'best_ourdensity':best_ourdensity,\n",
    "                'max_auc':best_auc,\n",
    "                'population':population_without_gparam},)\n",
    "        del population_without_gparam, individual_copy\n",
    "    return best_individual, best_auc, best_ourdensity"
   ]
  },
  {
   "cell_type": "code",
   "execution_count": null,
   "metadata": {},
   "outputs": [],
   "source": [
    "param_ran = {\n",
    "    \"stepsize\": (0.5, 2),\n",
    "    \"noiselevelparams\": (0.2, 1.99),\n",
    "    \"lambda\": (0.01, 0.99),\n",
    "    \"alpha\": (0.01, 0.99),\n",
    "    \"delta\": (0.5, 5),\n",
    "    \"gamma\": (0.01, 1.5),\n",
    "    \"t_S\": (0, 0.3),\n",
    "    \"t_E\": (0.01, 0.01),\n",
    "    \"t_Z\": (0, 0.3),\n",
    "}\n",
    "eew=[]\n",
    "eew=initialize_population(param_ran,  device=device, population_size=10 )"
   ]
  },
  {
   "cell_type": "code",
   "execution_count": null,
   "metadata": {},
   "outputs": [],
   "source": [
    "print(eew)"
   ]
  },
  {
   "cell_type": "code",
   "execution_count": null,
   "metadata": {},
   "outputs": [],
   "source": [
    "param_ranges = {\n",
    "    \"stepsize\": (0.5, 2),\n",
    "    \"noiselevelparams\": (0.2, 1.99),\n",
    "    \"lambda\": (0.01, 0.99),\n",
    "    \"alpha\": (0.01, 0.99),\n",
    "    \"delta\": (0.5, 5),\n",
    "    \"gamma\": (0.01, 1.5),\n",
    "    \"t_S\": (0, 0.3),\n",
    "    \"t_E\": (0.01, 0.01),\n",
    "    \"t_Z\": (0, 0.3),\n",
    "}\n",
    "\n",
    "# 执行遗传算法\n",
    "with torch.no_grad():# name = f'abu-urban-{i}''abu-airport-1','abu-airport-2','abu-airport-3','abu-airport-4','abu-beach-4''abu-urban-3',\n",
    "    for name in ['abu-airport-3']:\n",
    "        print(f'dealing {name}')\n",
    "        noise_level_img=0.00\n",
    "        variables_to_load = ['E_all','D_noise', 'amo_gt']\n",
    "\n",
    "    # 使用loadmat函数加载指定变量\n",
    "        data0 = scio.loadmat(f'AnomalyDetectionDataset/20241120/{name}_nl{int((noise_level_img) * 100):03d}.mat',variable_names=variables_to_load)\n",
    "        D_noise=torch.tensor(data0['D_noise'].astype('float32'), dtype=torch.float32).to(device)\n",
    "        D_noise=D_noise/D_noise.max()\n",
    "        amo_gt=torch.tensor(data0['amo_gt'], dtype=torch.float32).to(device)\n",
    "        rank=8\n",
    "    #    e_init=torch.tensor(data0['E_all'][:,:rank].astype('float32'), dtype=torch.float32).to(device)\n",
    "        e_init = torch.randn(D_noise.shape[0], rank, dtype=torch.float32).to(device)\n",
    "        U, SIG, V =torch.linalg.svd(e_init , full_matrices=False)\n",
    "        SIGone = torch.diag(torch.ones(rank,dtype=torch.float32).to(device)) #!!要和整体输入一致\n",
    "        e_init = U @ SIGone @ V\n",
    "        print(e_init.shape,D_noise.shape)\n",
    "        torch.cuda.empty_cache()\n",
    "\n",
    "        optimized_params, max_auc, best_ourdensity = genetic_algorithm(amo_gt, device, param_ranges, D_noise, e_init,name =name ,population_size=4,mutation_rate=0.2, generations=2) #, population_size=20, generations=50, mutation_rate=0.1\n",
    "        print(\"最大 AUC 值:\", max_auc)  \n",
    "    \n",
    "        saving_ttl=f'AnomalyDetectionDataset/20241120/auto/{name}_result_nl{int((noise_level_img) * 100):03d}_auto{int((max_auc) * 100):03d}.mat'\n",
    "        print(f'saving {saving_ttl}')\n",
    "        g_param=optimized_params.pop('g_param')\n",
    "        scio.savemat(saving_ttl,\n",
    "                    {'optimized_params':optimized_params,\n",
    "                    'best_ourdensity':best_ourdensity,\n",
    "                    'max_auc':max_auc},)\n",
    "        torch.cuda.empty_cache()"
   ]
  },
  {
   "cell_type": "code",
   "execution_count": null,
   "metadata": {},
   "outputs": [],
   "source": []
  },
  {
   "cell_type": "code",
   "execution_count": null,
   "metadata": {},
   "outputs": [],
   "source": [
    "        scio.savemat('',\n",
    "                    {'optimized_params':optimized_params,\n",
    "                    'best_ourdensity':best_ourdensity,\n",
    "                    'max_auc':max_auc},)"
   ]
  },
  {
   "cell_type": "code",
   "execution_count": null,
   "metadata": {},
   "outputs": [],
   "source": [
    " #'abu-beach-1','abu-beach-2','abu-beach-3','abu-beach-4','abu-urban-1','abu-urban-2','abu-urban-3','abu-urban-4','abu-airport-1','abu-airport-2','abu-airport-3',\n",
    "# with torch.no_grad():# name = f'abu-urban-{i}'\n",
    "#   name = 'abu-urban-1'\n",
    "#   print(f'dealing {name}')\n",
    "#   noise_level_img=0.03\n",
    "#   variables_to_load = ['E_all','D_noise', 'amo_gt']\n",
    "\n",
    "#   # 使用loadmat函数加载指定变量\n",
    "#   data0 = scio.loadmat(f'AnomalyDetectionDataset/20241120/{name}_nl{int((noise_level_img) * 100):03d}.mat',variable_names=variables_to_load)\n",
    "#   D_noise=torch.tensor(data0['D_noise'].astype('float32'), dtype=torch.float32).to(device)\n",
    "#   D_noise=D_noise/D_noise.max()\n",
    "#   amo_gt=torch.tensor(data0['amo_gt'], dtype=torch.float32).to(device)\n",
    "#   rank=8\n",
    "#   e_init=torch.tensor(data0['E_all'][:,:rank].astype('float32'), dtype=torch.float32).to(device)\n",
    "#   torch.cuda.empty_cache()\n",
    "#   optimized_params, max_auc, best_ourdensity = optimize_params(D_noise,e_init, amo_gt, device, 100, 1e-3)\n",
    "#   print(\"最大 AUC 值:\", max_auc)  \n",
    "  \n",
    "#   saving_ttl=f'AnomalyDetectionDataset/20241120/auto/{name}_result_nl{int((noise_level_img) * 100):03d}_auto{int((max_auc) * 100):03d}.mat'\n",
    "#   print(f'saving {saving_ttl}')\n",
    "#   optimized_params['g_param']=optimized_params['g_param'].cpu()\n",
    "#   scio.savemat(saving_ttl,\n",
    "#                 {'optimized_params':optimized_params,\n",
    "#                 'best_ourdensity':best_ourdensity,\n",
    "#                 'max_auc':max_auc},)\n",
    "#   torch.cuda.empty_cache()"
   ]
  },
  {
   "cell_type": "code",
   "execution_count": null,
   "metadata": {},
   "outputs": [],
   "source": []
  }
 ],
 "metadata": {
  "accelerator": "GPU",
  "colab": {
   "gpuType": "T4",
   "provenance": []
  },
  "kernelspec": {
   "display_name": "base",
   "language": "python",
   "name": "python3"
  },
  "language_info": {
   "codemirror_mode": {
    "name": "ipython",
    "version": 3
   },
   "file_extension": ".py",
   "mimetype": "text/x-python",
   "name": "python",
   "nbconvert_exporter": "python",
   "pygments_lexer": "ipython3",
   "version": "3.11.7"
  }
 },
 "nbformat": 4,
 "nbformat_minor": 0
}

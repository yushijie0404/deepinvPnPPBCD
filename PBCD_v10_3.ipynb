{
  "cells": [
    {
      "cell_type": "code",
      "execution_count": 1,
      "metadata": {
        "id": "bZFDfIE6-zyG",
        "outputId": "a9ff9152-5f8b-40da-fdb9-50387ca2706a",
        "colab": {
          "base_uri": "https://localhost:8080/",
          "height": 304
        }
      },
      "outputs": [
        {
          "output_type": "stream",
          "name": "stdout",
          "text": [
            "\u001b[31mERROR: Could not open requirements file: [Errno 2] No such file or directory: 'requirements.txt'\u001b[0m\u001b[31m\n",
            "\u001b[0m"
          ]
        },
        {
          "output_type": "error",
          "ename": "KeyboardInterrupt",
          "evalue": "",
          "traceback": [
            "\u001b[0;31m---------------------------------------------------------------------------\u001b[0m",
            "\u001b[0;31mKeyboardInterrupt\u001b[0m                         Traceback (most recent call last)",
            "\u001b[0;32m/tmp/ipython-input-1245788413.py\u001b[0m in \u001b[0;36m<cell line: 0>\u001b[0;34m()\u001b[0m\n\u001b[1;32m      1\u001b[0m \u001b[0mget_ipython\u001b[0m\u001b[0;34m(\u001b[0m\u001b[0;34m)\u001b[0m\u001b[0;34m.\u001b[0m\u001b[0msystem\u001b[0m\u001b[0;34m(\u001b[0m\u001b[0;34m'pip install -r requirements.txt'\u001b[0m\u001b[0;34m)\u001b[0m\u001b[0;34m\u001b[0m\u001b[0;34m\u001b[0m\u001b[0m\n\u001b[0;32m----> 2\u001b[0;31m \u001b[0;32mimport\u001b[0m \u001b[0mtorch\u001b[0m\u001b[0;34m\u001b[0m\u001b[0;34m\u001b[0m\u001b[0m\n\u001b[0m\u001b[1;32m      3\u001b[0m \u001b[0;32mimport\u001b[0m \u001b[0mscipy\u001b[0m\u001b[0;34m.\u001b[0m\u001b[0mio\u001b[0m \u001b[0;32mas\u001b[0m \u001b[0mscio\u001b[0m\u001b[0;34m\u001b[0m\u001b[0;34m\u001b[0m\u001b[0m\n\u001b[1;32m      4\u001b[0m \u001b[0;32mimport\u001b[0m \u001b[0mdeepinv\u001b[0m \u001b[0;32mas\u001b[0m \u001b[0mdinv\u001b[0m\u001b[0;34m\u001b[0m\u001b[0;34m\u001b[0m\u001b[0m\n\u001b[1;32m      5\u001b[0m \u001b[0;32mimport\u001b[0m \u001b[0mnumpy\u001b[0m \u001b[0;32mas\u001b[0m \u001b[0mnp\u001b[0m\u001b[0;34m\u001b[0m\u001b[0;34m\u001b[0m\u001b[0m\n",
            "\u001b[0;32m/usr/local/lib/python3.11/dist-packages/torch/__init__.py\u001b[0m in \u001b[0;36m<module>\u001b[0;34m\u001b[0m\n\u001b[1;32m    403\u001b[0m     \u001b[0;32mif\u001b[0m \u001b[0mUSE_GLOBAL_DEPS\u001b[0m\u001b[0;34m:\u001b[0m\u001b[0;34m\u001b[0m\u001b[0;34m\u001b[0m\u001b[0m\n\u001b[1;32m    404\u001b[0m         \u001b[0m_load_global_deps\u001b[0m\u001b[0;34m(\u001b[0m\u001b[0;34m)\u001b[0m\u001b[0;34m\u001b[0m\u001b[0;34m\u001b[0m\u001b[0m\n\u001b[0;32m--> 405\u001b[0;31m     \u001b[0;32mfrom\u001b[0m \u001b[0mtorch\u001b[0m\u001b[0;34m.\u001b[0m\u001b[0m_C\u001b[0m \u001b[0;32mimport\u001b[0m \u001b[0;34m*\u001b[0m  \u001b[0;31m# noqa: F403\u001b[0m\u001b[0;34m\u001b[0m\u001b[0;34m\u001b[0m\u001b[0m\n\u001b[0m\u001b[1;32m    406\u001b[0m \u001b[0;34m\u001b[0m\u001b[0m\n\u001b[1;32m    407\u001b[0m \u001b[0;34m\u001b[0m\u001b[0m\n",
            "\u001b[0;32m/usr/lib/python3.11/importlib/_bootstrap.py\u001b[0m in \u001b[0;36m_lock_unlock_module\u001b[0;34m(name)\u001b[0m\n",
            "\u001b[0;31mKeyboardInterrupt\u001b[0m: "
          ]
        }
      ],
      "source": [
        "!pip install -r requirements.txt\n",
        "import torch\n",
        "import scipy.io as scio\n",
        "import deepinv as dinv\n",
        "import numpy as np\n",
        "import matplotlib.pyplot as plt\n",
        "from tqdm import tqdm\n",
        "from pathlib import Path\n",
        "from deepinv.optim.data_fidelity import L2\n",
        "from deepinv.utils import get_freer_gpu\n",
        "from pbcd import PBCDIteration\n",
        "from models import L2pPrior, StiefelPrior, GSPnP, noise_estimate_batch_new"
      ]
    },
    {
      "cell_type": "code",
      "execution_count": null,
      "metadata": {
        "id": "j8JR-n04-zyH"
      },
      "outputs": [],
      "source": [
        "dataset_name = 'abu-urban-4'\n",
        "noise_level_img = 0.03\n",
        "data_path = f'AnomalyDetectionDataset/20241120/{dataset_name}_nl{int(noise_level_img*100):03d}.mat'\n",
        "data = scio.loadmat(data_path, variable_names=['D_noise', 'amo_gt'])\n",
        "\n",
        "D_noise = torch.tensor(data['D_noise'].astype('float32'), device=device)\n",
        "D_noise = D_noise / D_noise.max()\n",
        "amo_gt = torch.tensor(data['amo_gt'], device=device)\n",
        "\n",
        "# Show sample data\n",
        "plt.figure(figsize=(12, 4))\n",
        "plt.subplot(131)\n",
        "plt.imshow(D_noise[0].cpu().numpy())\n",
        "plt.title('Band 0')\n",
        "plt.subplot(132)\n",
        "plt.imshow(np.mean(D_noise.cpu().numpy(), axis=0))\n",
        "plt.title('Mean Spectrum')\n",
        "plt.subplot(133)\n",
        "plt.imshow(amo_gt.cpu().numpy())\n",
        "plt.title('Ground Truth')\n",
        "plt.tight_layout()\n",
        "plt.show()"
      ]
    },
    {
      "cell_type": "code",
      "execution_count": null,
      "metadata": {
        "id": "-neggM63-zyH"
      },
      "outputs": [],
      "source": [
        "rank = 8\n",
        "e_init = torch.randn(D_noise.shape[0], rank, device=device)\n",
        "U, _, V = torch.linalg.svd(e_init, full_matrices=False)\n",
        "e_init = U @ torch.diag(torch.ones(rank, device=device)) @ V\n",
        "\n",
        "params_algo = {\n",
        "    \"noiselevelparams\": 1,\n",
        "    \"delta\": 5000000000000.0,\n",
        "    \"tau\": 0.000000015,\n",
        "    \"alpha_S\": 0.1,\n",
        "    \"alpha_E\": 0.1,\n",
        "    \"alpha_Z\": 0.09,\n",
        "}\n",
        "params_algo[\"tilde_alpha_Z\"] = params_algo[\"delta\"] / (params_algo[\"delta\"] + params_algo[\"alpha_Z\"])\n",
        "params_algo[\"lambda\"] = 1 / params_algo[\"tilde_alpha_Z\"]\n",
        "\n",
        "data_fidelity = L2()\n",
        "prior_S = L2pPrior(l2_axis=1, l2p_p=0.1)\n",
        "prior_E = StiefelPrior(rank=rank)\n",
        "prior_Z = GSPnP(denoiser=dinv.models.GSDRUNet(in_channels=1, out_channels=1).to(device))\n",
        "iterator = PBCDIteration(eigenmode=1, l2_axis=1)\n",
        "\n",
        "S_init = torch.zeros_like(D_noise)\n",
        "Z_init = torch.zeros(1, rank, *D_noise.shape[1:], device=device)\n",
        "X = {\"est\": (S_init, e_init, Z_init), \"cost\": []}"
      ]
    },
    {
      "cell_type": "code",
      "execution_count": null,
      "metadata": {
        "id": "lA6UzmE7-zyH"
      },
      "outputs": [],
      "source": [
        "max_iter = 10\n",
        "for it in tqdm(range(max_iter)):\n",
        "    X = iterator(\n",
        "        X,\n",
        "        data_fidelity,\n",
        "        [prior_S, prior_E, prior_Z],\n",
        "        params_algo,\n",
        "        D_noise\n",
        "    )\n",
        "\n",
        "# [5] Results\n",
        "S_final = X[\"est\"][0]\n",
        "S_map = torch.sum(S_final**2, dim=1)\n",
        "ourdensity = S_map.cpu().numpy()\n",
        "\n",
        "plt.figure(figsize=(12, 4))\n",
        "plt.subplot(131)\n",
        "plt.imshow(amo_gt.cpu().numpy())\n",
        "plt.title('Ground Truth')\n",
        "plt.subplot(132)\n",
        "plt.imshow(ourdensity)\n",
        "plt.title('Detected Anomalies')\n",
        "plt.subplot(133)\n",
        "plt.imshow(np.abs(ourdensity - amo_gt.cpu().numpy()))\n",
        "plt.title('Difference')\n",
        "plt.tight_layout()\n",
        "plt.show()\n",
        "\n",
        "Path(\"results\").mkdir(exist_ok=True)\n",
        "save_path = f'results/{dataset_name}_result_nl{int(noise_level_img*100):03d}.mat'\n",
        "scio.savemat(save_path, {\n",
        "    'params_algo': params_algo,\n",
        "    'ourdensity': ourdensity,\n",
        "    'amo_gt': amo_gt.cpu().numpy()\n",
        "})\n",
        "print(f\"Results saved to {save_path}\")"
      ]
    }
  ],
  "metadata": {
    "accelerator": "GPU",
    "colab": {
      "gpuType": "T4",
      "provenance": []
    },
    "kernelspec": {
      "display_name": "base",
      "language": "python",
      "name": "python3"
    },
    "language_info": {
      "codemirror_mode": {
        "name": "ipython",
        "version": 3
      },
      "file_extension": ".py",
      "mimetype": "text/x-python",
      "name": "python",
      "nbconvert_exporter": "python",
      "pygments_lexer": "ipython3",
      "version": "3.11.7"
    }
  },
  "nbformat": 4,
  "nbformat_minor": 0
}
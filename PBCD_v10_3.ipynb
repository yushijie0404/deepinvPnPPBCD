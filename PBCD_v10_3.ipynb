{
 "cells": [
  {
   "cell_type": "code",
   "execution_count": null,
   "metadata": {},
   "outputs": [],
   "source": [
    "!pip install -r requirements.txt\n",
    "import torch\n",
    "import scipy.io as scio\n",
    "import deepinv as dinv\n",
    "import numpy as np\n",
    "import matplotlib.pyplot as plt\n",
    "from tqdm import tqdm\n",
    "from pathlib import Path\n",
    "from deepinv.optim.data_fidelity import L2\n",
    "from deepinv.utils import get_freer_gpu\n",
    "from pbcd import PBCDIteration\n",
    "from models import L2pPrior, StiefelPrior, GSPnP, noise_estimate_batch_new"
   ]
  },
  {
   "cell_type": "code",
   "execution_count": null,
   "metadata": {},
   "outputs": [],
   "source": [
    "dataset_name = 'abu-urban-4'\n",
    "noise_level_img = 0.03\n",
    "data_path = f'AnomalyDetectionDataset/20241120/{dataset_name}_nl{int(noise_level_img*100):03d}.mat'\n",
    "data = scio.loadmat(data_path, variable_names=['D_noise', 'amo_gt'])\n",
    "\n",
    "D_noise = torch.tensor(data['D_noise'].astype('float32'), device=device)\n",
    "D_noise = D_noise / D_noise.max()\n",
    "amo_gt = torch.tensor(data['amo_gt'], device=device)\n",
    "\n",
    "# Show sample data\n",
    "plt.figure(figsize=(12, 4))\n",
    "plt.subplot(131)\n",
    "plt.imshow(D_noise[0].cpu().numpy())\n",
    "plt.title('Band 0')\n",
    "plt.subplot(132)\n",
    "plt.imshow(np.mean(D_noise.cpu().numpy(), axis=0))\n",
    "plt.title('Mean Spectrum')\n",
    "plt.subplot(133)\n",
    "plt.imshow(amo_gt.cpu().numpy())\n",
    "plt.title('Ground Truth')\n",
    "plt.tight_layout()\n",
    "plt.show()"
   ]
  },
  {
   "cell_type": "code",
   "execution_count": null,
   "metadata": {},
   "outputs": [],
   "source": [
    "rank = 8\n",
    "e_init = torch.randn(D_noise.shape[0], rank, device=device)\n",
    "U, _, V = torch.linalg.svd(e_init, full_matrices=False)\n",
    "e_init = U @ torch.diag(torch.ones(rank, device=device)) @ V\n",
    "\n",
    "params_algo = {\n",
    "    \"noiselevelparams\": 1,\n",
    "    \"delta\": 5000000000000.0,\n",
    "    \"tau\": 0.000000015,\n",
    "    \"alpha_S\": 0.1,\n",
    "    \"alpha_E\": 0.1,\n",
    "    \"alpha_Z\": 0.09,\n",
    "}\n",
    "params_algo[\"tilde_alpha_Z\"] = params_algo[\"delta\"] / (params_algo[\"delta\"] + params_algo[\"alpha_Z\"])\n",
    "params_algo[\"lambda\"] = 1 / params_algo[\"tilde_alpha_Z\"]\n",
    "\n",
    "data_fidelity = L2()\n",
    "prior_S = L2pPrior(l2_axis=1, l2p_p=0.1)\n",
    "prior_E = StiefelPrior(rank=rank)\n",
    "prior_Z = GSPnP(denoiser=dinv.models.GSDRUNet(in_channels=1, out_channels=1).to(device))\n",
    "iterator = PBCDIteration(eigenmode=1, l2_axis=1)\n",
    "\n",
    "S_init = torch.zeros_like(D_noise)\n",
    "Z_init = torch.zeros(1, rank, *D_noise.shape[1:], device=device)\n",
    "X = {\"est\": (S_init, e_init, Z_init), \"cost\": []}"
   ]
  },
  {
   "cell_type": "code",
   "execution_count": null,
   "metadata": {},
   "outputs": [],
   "source": [
    "max_iter = 10\n",
    "for it in tqdm(range(max_iter)):\n",
    "    X = iterator(\n",
    "        X, \n",
    "        data_fidelity, \n",
    "        [prior_S, prior_E, prior_Z], \n",
    "        params_algo, \n",
    "        D_noise\n",
    "    )\n",
    "\n",
    "# [5] Results\n",
    "S_final = X[\"est\"][0]\n",
    "S_map = torch.sum(S_final**2, dim=1)\n",
    "ourdensity = S_map.cpu().numpy()\n",
    "\n",
    "plt.figure(figsize=(12, 4))\n",
    "plt.subplot(131)\n",
    "plt.imshow(amo_gt.cpu().numpy())\n",
    "plt.title('Ground Truth')\n",
    "plt.subplot(132)\n",
    "plt.imshow(ourdensity)\n",
    "plt.title('Detected Anomalies')\n",
    "plt.subplot(133)\n",
    "plt.imshow(np.abs(ourdensity - amo_gt.cpu().numpy()))\n",
    "plt.title('Difference')\n",
    "plt.tight_layout()\n",
    "plt.show()\n",
    "\n",
    "Path(\"results\").mkdir(exist_ok=True)\n",
    "save_path = f'results/{dataset_name}_result_nl{int(noise_level_img*100):03d}.mat'\n",
    "scio.savemat(save_path, {\n",
    "    'params_algo': params_algo,\n",
    "    'ourdensity': ourdensity,\n",
    "    'amo_gt': amo_gt.cpu().numpy()\n",
    "})\n",
    "print(f\"Results saved to {save_path}\")"
   ]
  }
 ],
 "metadata": {
  "accelerator": "GPU",
  "colab": {
   "gpuType": "T4",
   "provenance": []
  },
  "kernelspec": {
   "display_name": "base",
   "language": "python",
   "name": "python3"
  },
  "language_info": {
   "codemirror_mode": {
    "name": "ipython",
    "version": 3
   },
   "file_extension": ".py",
   "mimetype": "text/x-python",
   "name": "python",
   "nbconvert_exporter": "python",
   "pygments_lexer": "ipython3",
   "version": "3.11.7"
  }
 },
 "nbformat": 4,
 "nbformat_minor": 0
}
